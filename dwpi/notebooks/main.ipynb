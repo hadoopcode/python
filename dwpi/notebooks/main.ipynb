{
 "cells": [
  {
   "cell_type": "code",
   "execution_count": 17,
   "metadata": {
    "collapsed": true,
    "pycharm": {
     "is_executing": false
    }
   },
   "outputs": [],
   "source": [
    "from dwpi_process import DataLoad, ExtractFields, CleanFields, ProcessDwpiText, ComputeDwpi, CreateMatrix\n",
    "import itertools\n",
    "import numpy as np"
   ]
  },
  {
   "cell_type": "code",
   "execution_count": 2,
   "outputs": [
    {
     "name": "stdout",
     "text": [
      "Warning: parsing empty text\nWarning: parsing empty text\n",
      "Warning: parsing empty text\nWarning: parsing empty text\n",
      "Warning: parsing empty text\nWarning: parsing empty text\n"
     ],
     "output_type": "stream"
    }
   ],
   "source": [
    "load = DataLoad(r'F:\\project\\pycharm_workplace\\dwpi\\data')\n",
    "records = load.getAllRecords()\n",
    "croups = list()\n",
    "for record in records:\n",
    "    fields_ti_ab = ExtractFields.extract_fields(record, \"TI\", \"AB\")\n",
    "    fields_ti_ab[\"AB\"] = CleanFields.clean_ab(fields_ti_ab[\"AB\"])\n",
    "    dwpi_text = ProcessDwpiText()\n",
    "    tokenize_ab_ti = dwpi_text.word_from_list_tokenize(fields_ti_ab)\n",
    "    grammar = r\"\"\"\n",
    "                NBAR:\n",
    "                    {<NN.*|JJ>*<NN.*>}  # Nouns and Adjectives, terminated with Nouns\n",
    "\n",
    "                NP:\n",
    "                    {<NBAR>}\n",
    "                    {<NBAR><IN><NBAR>}  # Above, connected with in/of/etc...;IN代表介词\n",
    "            \"\"\"\n",
    "    text_leaves = dwpi_text.fields_leaves(tokenize_ab_ti, grammar, \"NP\")\n",
    "    croup = dwpi_text.filter_normalise_word(text_leaves)\n",
    "    croup = itertools.chain.from_iterable([croup['TI'], croup['AB']])\n",
    "    croups.append(list(croup))"
   ],
   "metadata": {
    "collapsed": false,
    "pycharm": {
     "name": "#%%\n",
     "is_executing": false
    }
   }
  },
  {
   "cell_type": "code",
   "execution_count": 4,
   "outputs": [],
   "source": [
    "keyword_list = ComputeDwpi.get_keyword_list(croups)\n",
    "matrix = CreateMatrix()"
   ],
   "metadata": {
    "collapsed": false,
    "pycharm": {
     "name": "#%%\n",
     "is_executing": false
    }
   }
  },
  {
   "cell_type": "code",
   "execution_count": 44,
   "outputs": [
    {
     "name": "stdout",
     "text": [
      "[  29.41176471           inf  166.66666667 1000.                   inf\n   83.33333333 1000.           90.90909091 1000.                   inf\n 1000.                   inf 1000.           40.                   inf\n  500.         1000.                   inf 1000.         1000.\n           inf           inf  500.         1000.                   inf\n           inf  100.                   inf  250.                   inf\n           inf           inf           inf   37.03703704 1000.\n           inf           inf 1000.          250.                   inf\n  333.33333333           inf  500.         1000.                   inf\n           inf           inf  142.85714286 1000.                   inf\n   71.42857143           inf           inf  500.                   inf\n   32.25806452   32.25806452           inf  250.                   inf\n   23.25581395  500.           43.47826087  500.         1000.\n           inf  500.          500.         1000.         1000.\n           inf  333.33333333           inf           inf  333.33333333\n  333.33333333  142.85714286           inf 1000.                   inf\n           inf           inf           inf  333.33333333  500.\n   47.61904762  333.33333333  500.           13.69863014           inf\n           inf           inf 1000.         1000.         1000.\n  125.                   inf           inf 1000.                   inf\n 1000.                   inf           inf           inf  142.85714286\n 1000.         1000.                   inf  500.         1000.\n 1000.         1000.         1000.                   inf           inf\n           inf           inf           inf 1000.          200.\n 1000.                   inf           inf  142.85714286           inf\n 1000.          500.                   inf  500.                   inf\n           inf 1000.         1000.          250.                   inf\n           inf           inf           inf   76.92307692           inf\n           inf  500.                   inf           inf  250.\n  333.33333333 1000.         1000.          500.         1000.\n           inf   30.3030303    90.90909091 1000.                   inf\n  500.         1000.                   inf           inf           inf\n 1000.            5.71428571  333.33333333           inf           inf\n  500.          100.         1000.          125.          111.11111111\n  166.66666667           inf           inf           inf   76.92307692\n   50.                   inf 1000.                   inf 1000.\n 1000.         1000.                   inf  333.33333333   47.61904762\n   43.47826087   62.5        1000.         1000.                   inf\n  250.                   inf 1000.                   inf  200.\n   29.41176471 1000.                   inf   38.46153846  500.\n   71.42857143 1000.                   inf           inf 1000.\n 1000.          100.                   inf   35.71428571 1000.\n 1000.          200.                   inf           inf 1000.\n 1000.                   inf  500.          500.           34.48275862\n  500.          200.                   inf           inf 1000.\n   47.61904762   13.69863014           inf 1000.         1000.\n           inf 1000.           90.90909091           inf 1000.\n  333.33333333 1000.                   inf 1000.                   inf\n           inf  250.          142.85714286  500.         1000.\n           inf 1000.                   inf  333.33333333  100.\n  142.85714286  500.         1000.         1000.           83.33333333\n 1000.          333.33333333           inf  200.                   inf\n           inf 1000.          500.           10.20408163           inf\n 1000.                   inf           inf  166.66666667           inf\n           inf  142.85714286           inf  500.                   inf\n           inf  250.         1000.          500.                   inf\n           inf 1000.           15.625                inf 1000.\n   71.42857143 1000.           43.47826087           inf           inf\n 1000.           62.5                  inf 1000.          333.33333333\n  200.          333.33333333 1000.          166.66666667           inf\n           inf  142.85714286  200.                   inf           inf\n           inf           inf 1000.                   inf           inf\n  250.                   inf  333.33333333  125.         1000.\n  125.                   inf           inf           inf           inf\n           inf  250.          111.11111111           inf           inf\n 1000.                   inf           inf           inf 1000.\n 1000.         1000.          333.33333333           inf           inf\n           inf   43.47826087 1000.                   inf           inf\n  500.                   inf 1000.          142.85714286 1000.\n 1000.                   inf           inf           inf           inf\n 1000.          111.11111111           inf           inf           inf\n 1000.                   inf 1000.                   inf 1000.\n  200.          125.         1000.                   inf           inf\n 1000.                   inf 1000.           33.33333333  125.\n  250.          500.         1000.         1000.                   inf\n   34.48275862           inf   90.90909091  200.         1000.\n  142.85714286  125.                   inf  166.66666667           inf\n 1000.                   inf  500.         1000.                   inf\n           inf  333.33333333           inf           inf  500.\n  500.          500.          142.85714286  125.                   inf\n   18.86792453   47.61904762   22.72727273 1000.          500.\n  500.           40.                   inf  111.11111111 1000.\n           inf   52.63157895  333.33333333           inf   34.48275862\n           inf   47.61904762  333.33333333  333.33333333   55.55555556\n           inf  166.66666667  142.85714286   38.46153846           inf\n 1000.                   inf   20.40816327 1000.          200.\n           inf  333.33333333 1000.                   inf           inf\n  142.85714286  500.           22.22222222  500.          500.\n  166.66666667    4.38596491           inf 1000.                   inf\n           inf  200.          250.         1000.         1000.\n  142.85714286   90.90909091  333.33333333           inf           inf\n   35.71428571  333.33333333   62.5                  inf  500.\n           inf           inf  166.66666667 1000.           50.\n           inf           inf 1000.         1000.          111.11111111\n 1000.                   inf 1000.         1000.           32.25806452\n   31.25        333.33333333           inf           inf           inf\n  333.33333333  333.33333333 1000.          250.          500.\n           inf           inf 1000.                   inf   45.45454545\n   47.61904762   90.90909091   37.03703704   14.70588235   47.61904762\n   35.71428571           inf 1000.          500.         1000.\n           inf  250.          500.                   inf           inf\n           inf 1000.           22.72727273 1000.          250.\n           inf  200.                   inf  166.66666667 1000.\n 1000.                   inf  250.                   inf           inf\n           inf  333.33333333 1000.         1000.           21.27659574\n 1000.          333.33333333  500.          333.33333333   76.92307692\n   58.82352941           inf  250.           71.42857143           inf\n  166.66666667           inf   58.82352941   35.71428571   47.61904762\n 1000.                   inf  500.         1000.                   inf\n   21.73913043           inf 1000.                   inf           inf\n           inf  333.33333333           inf           inf  500.\n           inf   76.92307692  200.           35.71428571   20.40816327\n  166.66666667 1000.         1000.                   inf           inf\n  111.11111111 1000.           66.66666667           inf 1000.\n  166.66666667  250.           47.61904762  111.11111111           inf\n 1000.          111.11111111    5.52486188   21.27659574 1000.\n  500.                   inf  500.                   inf  250.\n   17.24137931  125.          500.          250.         1000.\n           inf           inf 1000.         1000.         1000.\n   32.25806452  333.33333333 1000.         1000.          200.\n  333.33333333   17.85714286  333.33333333           inf 1000.\n           inf  111.11111111  250.                   inf           inf\n    9.61538462  142.85714286 1000.                   inf  166.66666667\n  500.         1000.                   inf           inf 1000.\n   12.5         500.                   inf  166.66666667  500.\n 1000.          200.          250.         1000.                   inf\n   66.66666667   52.63157895 1000.          166.66666667 1000.\n  125.         1000.          200.           71.42857143           inf\n 1000.         1000.          166.66666667           inf  125.\n  333.33333333           inf  142.85714286           inf   62.5\n 1000.           19.60784314           inf           inf 1000.\n  200.           29.41176471  333.33333333   25.                   inf\n   66.66666667  500.          200.           38.46153846  166.66666667\n  250.                   inf  250.                   inf   58.82352941\n 1000.          200.         1000.          250.         1000.\n   83.33333333  500.          100.           35.71428571           inf\n 1000.           15.15151515           inf  333.33333333   45.45454545\n           inf  500.                   inf  333.33333333  333.33333333\n  250.          200.                   inf  200.          500.\n  500.          111.11111111   33.33333333 1000.          500.\n           inf           inf           inf   13.51351351 1000.\n  111.11111111   71.42857143  111.11111111  333.33333333  200.\n 1000.          333.33333333   62.5                  inf  500.\n  500.          333.33333333 1000.         1000.         1000.\n           inf  200.            3.38983051 1000.          250.\n   11.11111111 1000.                   inf  500.          125.\n 1000.                   inf  250.                   inf  333.33333333\n           inf           inf 1000.          200.           62.5\n   27.77777778 1000.           71.42857143  111.11111111           inf\n 1000.         1000.          333.33333333  125.          200.\n    5.88235294 1000.          200.          500.           26.31578947\n   62.5          55.55555556  250.                   inf   34.48275862\n 1000.          500.          500.           71.42857143   34.48275862\n   83.33333333           inf  166.66666667 1000.          333.33333333\n  333.33333333  166.66666667 1000.          250.           25.64102564\n 1000.         1000.          500.          500.           66.66666667\n  250.         1000.           27.77777778           inf 1000.\n  333.33333333  333.33333333  125.          166.66666667   43.47826087\n           inf   31.25        250.         1000.          125.\n 1000.                   inf 1000.           83.33333333   66.66666667\n  125.                   inf           inf  500.           38.46153846\n 1000.           90.90909091 1000.           83.33333333   62.5\n  333.33333333           inf 1000.                   inf 1000.\n   27.77777778  500.           11.9047619            inf   83.33333333\n           inf           inf  250.         1000.         1000.\n  500.         1000.          125.                   inf  500.\n 1000.                   inf 1000.          333.33333333  333.33333333\n  333.33333333  500.         1000.          333.33333333  250.\n  333.33333333  500.          100.          333.33333333           inf\n 1000.          166.66666667   37.03703704  200.          333.33333333\n   17.54385965  142.85714286  200.           66.66666667 1000.\n    9.34579439   38.46153846           inf           inf           inf\n   12.5        1000.         1000.           12.65822785 1000.\n   62.5          43.47826087  333.33333333   52.63157895 1000.\n   14.92537313  250.           62.5        1000.          500.\n  250.         1000.                   inf 1000.          333.33333333\n 1000.         1000.         1000.          500.          142.85714286\n 1000.          333.33333333   55.55555556           inf   58.82352941\n  200.         1000.                   inf  250.           66.66666667\n           inf   55.55555556           inf 1000.           38.46153846\n   30.3030303            inf  250.            4.71698113  333.33333333\n   37.03703704   76.92307692 1000.           71.42857143  333.33333333\n 1000.          100.         1000.           50.         1000.\n  500.                   inf           inf   27.77777778  200.\n  200.           11.9047619   250.          250.          200.\n  200.          333.33333333           inf  500.                   inf\n  333.33333333  500.          166.66666667           inf           inf\n   45.45454545   71.42857143 1000.           37.03703704   22.72727273\n 1000.           90.90909091   26.31578947 1000.           38.46153846\n  125.          500.         1000.                   inf 1000.\n  333.33333333  500.          142.85714286 1000.         1000.\n  166.66666667 1000.           62.5         200.           23.80952381\n   28.57142857  250.         1000.          111.11111111   41.66666667\n 1000.           90.90909091  333.33333333 1000.         1000.\n   10.           27.02702703   12.65822785   13.15789474  100.\n  200.          142.85714286   62.5         125.          142.85714286\n   47.61904762  166.66666667  125.           52.63157895  142.85714286\n   50.          250.          111.11111111 1000.          500.\n  250.          250.         1000.          142.85714286  500.\n   38.46153846  333.33333333  500.          333.33333333   47.61904762]\n"
     ],
     "output_type": "stream"
    }
   ],
   "source": [
    "tf_idf = matrix.tf_idf(keyword_list,croups)\n",
    "\n",
    "\n"
   ],
   "metadata": {
    "collapsed": false,
    "pycharm": {
     "name": "#%%\n",
     "is_executing": false
    }
   }
  },
  {
   "cell_type": "code",
   "execution_count": 45,
   "outputs": [
    {
     "data": {
      "text/plain": "array([[nan],\n       [nan],\n       [nan],\n       [nan],\n       [nan],\n       [nan],\n       [nan],\n       [nan],\n       [nan],\n       [nan],\n       [nan],\n       [nan],\n       [nan],\n       [nan],\n       [nan],\n       [nan],\n       [nan],\n       [nan],\n       [nan],\n       [nan],\n       [nan],\n       [nan],\n       [nan],\n       [nan],\n       [nan],\n       [nan],\n       [nan],\n       [nan],\n       [nan],\n       [nan],\n       [nan],\n       [nan],\n       [nan],\n       [nan],\n       [nan],\n       [nan],\n       [nan],\n       [nan],\n       [nan],\n       [nan],\n       [nan],\n       [nan],\n       [nan],\n       [nan],\n       [nan],\n       [nan],\n       [nan],\n       [nan],\n       [nan],\n       [nan],\n       [nan],\n       [nan],\n       [nan],\n       [nan],\n       [nan],\n       [nan],\n       [nan],\n       [nan],\n       [nan],\n       [nan],\n       [nan],\n       [nan],\n       [nan],\n       [nan],\n       [nan],\n       [nan],\n       [nan],\n       [nan],\n       [nan],\n       [nan],\n       [nan],\n       [nan],\n       [nan],\n       [nan],\n       [nan],\n       [nan],\n       [nan],\n       [nan],\n       [nan],\n       [nan],\n       [nan],\n       [nan],\n       [nan],\n       [nan],\n       [nan],\n       [nan],\n       [nan],\n       [nan],\n       [nan],\n       [nan],\n       [nan],\n       [nan],\n       [nan],\n       [nan],\n       [nan],\n       [nan],\n       [nan],\n       [nan],\n       [nan],\n       [nan],\n       [nan],\n       [nan],\n       [nan],\n       [nan],\n       [nan],\n       [nan],\n       [nan],\n       [nan],\n       [nan],\n       [nan],\n       [nan],\n       [nan],\n       [nan],\n       [nan],\n       [nan],\n       [nan],\n       [nan],\n       [nan],\n       [nan],\n       [nan],\n       [nan],\n       [nan],\n       [nan],\n       [nan],\n       [nan],\n       [nan],\n       [nan],\n       [nan],\n       [nan],\n       [nan],\n       [nan],\n       [nan],\n       [nan],\n       [nan],\n       [nan],\n       [nan],\n       [nan],\n       [nan],\n       [nan],\n       [nan],\n       [nan],\n       [nan],\n       [nan],\n       [nan],\n       [nan],\n       [nan],\n       [nan],\n       [nan],\n       [nan],\n       [nan],\n       [nan],\n       [nan],\n       [nan],\n       [nan],\n       [nan],\n       [nan],\n       [nan],\n       [nan],\n       [nan],\n       [nan],\n       [nan],\n       [nan],\n       [nan],\n       [nan],\n       [nan],\n       [nan],\n       [nan],\n       [nan],\n       [nan],\n       [nan],\n       [nan],\n       [nan],\n       [nan],\n       [nan],\n       [nan],\n       [nan],\n       [nan],\n       [nan],\n       [nan],\n       [nan],\n       [nan],\n       [nan],\n       [nan],\n       [nan],\n       [nan],\n       [nan],\n       [nan],\n       [nan],\n       [nan],\n       [nan],\n       [nan],\n       [nan],\n       [nan],\n       [nan],\n       [nan],\n       [nan],\n       [nan],\n       [nan],\n       [nan],\n       [nan],\n       [nan],\n       [nan],\n       [nan],\n       [nan],\n       [nan],\n       [nan],\n       [nan],\n       [nan],\n       [nan],\n       [nan],\n       [nan],\n       [nan],\n       [nan],\n       [nan],\n       [nan],\n       [nan],\n       [nan],\n       [nan],\n       [nan],\n       [nan],\n       [nan],\n       [nan],\n       [nan],\n       [nan],\n       [nan],\n       [nan],\n       [nan],\n       [nan],\n       [nan],\n       [nan],\n       [nan],\n       [nan],\n       [nan],\n       [nan],\n       [nan],\n       [nan],\n       [nan],\n       [nan],\n       [nan],\n       [nan],\n       [nan],\n       [nan],\n       [nan],\n       [nan],\n       [nan],\n       [nan],\n       [nan],\n       [nan],\n       [nan],\n       [nan],\n       [nan],\n       [nan],\n       [nan],\n       [nan],\n       [nan],\n       [nan],\n       [nan],\n       [nan],\n       [nan],\n       [nan],\n       [nan],\n       [nan],\n       [nan],\n       [nan],\n       [nan],\n       [nan],\n       [nan],\n       [nan],\n       [nan],\n       [nan],\n       [nan],\n       [nan],\n       [nan],\n       [nan],\n       [nan],\n       [nan],\n       [nan],\n       [nan],\n       [nan],\n       [nan],\n       [nan],\n       [nan],\n       [nan],\n       [nan],\n       [nan],\n       [nan],\n       [nan],\n       [nan],\n       [nan],\n       [nan],\n       [nan],\n       [nan],\n       [nan],\n       [nan],\n       [nan],\n       [nan],\n       [nan],\n       [nan],\n       [nan],\n       [nan],\n       [nan],\n       [nan],\n       [nan],\n       [nan],\n       [nan],\n       [nan],\n       [nan],\n       [nan],\n       [nan],\n       [nan],\n       [nan],\n       [nan],\n       [nan],\n       [nan],\n       [nan],\n       [nan],\n       [nan],\n       [nan],\n       [nan],\n       [nan],\n       [nan],\n       [nan],\n       [nan],\n       [nan],\n       [nan],\n       [nan],\n       [nan],\n       [nan],\n       [nan],\n       [nan],\n       [nan],\n       [nan],\n       [nan],\n       [nan],\n       [nan],\n       [nan],\n       [nan],\n       [nan],\n       [nan],\n       [nan],\n       [nan],\n       [nan],\n       [nan],\n       [nan],\n       [nan],\n       [nan],\n       [nan],\n       [nan],\n       [nan],\n       [nan],\n       [nan],\n       [nan],\n       [nan],\n       [nan],\n       [nan],\n       [nan],\n       [nan],\n       [nan],\n       [nan],\n       [nan],\n       [nan],\n       [nan],\n       [nan],\n       [nan],\n       [nan],\n       [nan],\n       [nan],\n       [nan],\n       [nan],\n       [nan],\n       [nan],\n       [nan],\n       [nan],\n       [nan],\n       [nan],\n       [nan],\n       [nan],\n       [nan],\n       [nan],\n       [nan],\n       [nan],\n       [nan],\n       [nan],\n       [nan],\n       [nan],\n       [nan],\n       [nan],\n       [nan],\n       [nan],\n       [nan],\n       [nan],\n       [nan],\n       [nan],\n       [nan],\n       [nan],\n       [nan],\n       [nan],\n       [nan],\n       [nan],\n       [nan],\n       [nan],\n       [nan],\n       [nan],\n       [nan],\n       [nan],\n       [nan],\n       [nan],\n       [nan],\n       [nan],\n       [nan],\n       [nan],\n       [nan],\n       [nan],\n       [nan],\n       [nan],\n       [nan],\n       [nan],\n       [nan],\n       [nan],\n       [nan],\n       [nan],\n       [nan],\n       [nan],\n       [nan],\n       [nan],\n       [nan],\n       [nan],\n       [nan],\n       [nan],\n       [nan],\n       [nan],\n       [nan],\n       [nan],\n       [nan],\n       [nan],\n       [nan],\n       [nan],\n       [nan],\n       [nan],\n       [nan],\n       [nan],\n       [nan],\n       [nan],\n       [nan],\n       [nan],\n       [nan],\n       [nan],\n       [nan],\n       [nan],\n       [nan],\n       [nan],\n       [nan],\n       [nan],\n       [nan],\n       [nan],\n       [nan],\n       [nan],\n       [nan],\n       [nan],\n       [nan],\n       [nan],\n       [nan],\n       [nan],\n       [nan],\n       [nan],\n       [nan],\n       [nan],\n       [nan],\n       [nan],\n       [nan],\n       [nan],\n       [nan],\n       [nan],\n       [nan],\n       [nan],\n       [nan],\n       [nan],\n       [nan],\n       [nan],\n       [nan],\n       [nan],\n       [nan],\n       [nan],\n       [nan],\n       [nan],\n       [nan],\n       [nan],\n       [nan],\n       [nan],\n       [nan],\n       [nan],\n       [nan],\n       [nan],\n       [nan],\n       [nan],\n       [nan],\n       [nan],\n       [nan],\n       [nan],\n       [nan],\n       [nan],\n       [nan],\n       [nan],\n       [nan],\n       [nan],\n       [nan],\n       [nan],\n       [nan],\n       [nan],\n       [nan],\n       [nan],\n       [nan],\n       [nan],\n       [nan],\n       [nan],\n       [nan],\n       [nan],\n       [nan],\n       [nan],\n       [nan],\n       [nan],\n       [nan],\n       [nan],\n       [nan],\n       [nan],\n       [nan],\n       [nan],\n       [nan],\n       [nan],\n       [nan],\n       [nan],\n       [nan],\n       [nan],\n       [nan],\n       [nan],\n       [nan],\n       [nan],\n       [nan],\n       [nan],\n       [nan],\n       [nan],\n       [nan],\n       [nan],\n       [nan],\n       [nan],\n       [nan],\n       [nan],\n       [nan],\n       [nan],\n       [nan],\n       [nan],\n       [nan],\n       [nan],\n       [nan],\n       [nan],\n       [nan],\n       [nan],\n       [nan],\n       [nan],\n       [nan],\n       [nan],\n       [nan],\n       [nan],\n       [nan],\n       [nan],\n       [nan],\n       [nan],\n       [nan],\n       [nan],\n       [nan],\n       [nan],\n       [nan],\n       [nan],\n       [nan],\n       [nan],\n       [nan],\n       [nan],\n       [nan],\n       [nan],\n       [nan],\n       [nan],\n       [nan],\n       [nan],\n       [nan],\n       [nan],\n       [nan],\n       [nan],\n       [nan],\n       [nan],\n       [nan],\n       [nan],\n       [nan],\n       [nan],\n       [nan],\n       [nan],\n       [nan],\n       [nan],\n       [nan],\n       [nan],\n       [nan],\n       [nan],\n       [nan],\n       [nan],\n       [nan],\n       [nan],\n       [nan],\n       [nan],\n       [nan],\n       [nan],\n       [nan],\n       [nan],\n       [nan],\n       [nan],\n       [nan],\n       [nan],\n       [nan],\n       [nan],\n       [nan],\n       [nan],\n       [nan],\n       [nan],\n       [nan],\n       [nan],\n       [nan],\n       [nan],\n       [nan],\n       [nan],\n       [nan],\n       [nan],\n       [nan],\n       [nan],\n       [nan],\n       [nan],\n       [nan],\n       [nan],\n       [nan],\n       [nan],\n       [nan],\n       [nan],\n       [nan],\n       [nan],\n       [nan],\n       [nan],\n       [nan],\n       [nan],\n       [nan],\n       [nan],\n       [nan],\n       [nan],\n       [nan],\n       [nan],\n       [nan],\n       [nan],\n       [nan],\n       [nan],\n       [nan],\n       [nan],\n       [nan],\n       [nan],\n       [nan],\n       [nan],\n       [nan],\n       [nan],\n       [nan],\n       [nan],\n       [nan],\n       [nan],\n       [nan],\n       [nan],\n       [nan],\n       [nan],\n       [nan],\n       [nan],\n       [nan],\n       [nan],\n       [nan],\n       [nan],\n       [nan],\n       [nan],\n       [nan],\n       [nan],\n       [nan],\n       [nan],\n       [nan],\n       [nan],\n       [nan],\n       [nan],\n       [nan],\n       [nan],\n       [nan],\n       [nan],\n       [nan],\n       [nan],\n       [nan],\n       [nan],\n       [nan],\n       [nan],\n       [nan],\n       [nan],\n       [nan],\n       [nan],\n       [nan],\n       [nan],\n       [nan],\n       [nan],\n       [nan],\n       [nan],\n       [nan],\n       [nan],\n       [nan],\n       [nan],\n       [nan],\n       [nan],\n       [nan],\n       [nan],\n       [nan],\n       [nan],\n       [nan],\n       [nan],\n       [nan],\n       [nan],\n       [nan],\n       [nan],\n       [nan],\n       [nan],\n       [nan],\n       [nan],\n       [nan],\n       [nan],\n       [nan],\n       [nan],\n       [nan],\n       [nan],\n       [nan],\n       [nan],\n       [nan],\n       [nan],\n       [nan],\n       [nan],\n       [nan],\n       [nan],\n       [nan],\n       [nan],\n       [nan],\n       [nan],\n       [nan],\n       [nan],\n       [nan],\n       [nan],\n       [nan],\n       [nan],\n       [nan],\n       [nan],\n       [nan],\n       [nan],\n       [nan],\n       [nan],\n       [nan],\n       [nan],\n       [nan],\n       [nan],\n       [nan],\n       [nan],\n       [nan],\n       [nan],\n       [nan],\n       [nan],\n       [nan],\n       [nan],\n       [nan],\n       [nan],\n       [nan],\n       [nan],\n       [nan],\n       [nan],\n       [nan],\n       [nan],\n       [nan],\n       [nan],\n       [nan],\n       [nan],\n       [nan],\n       [nan],\n       [nan],\n       [nan],\n       [nan],\n       [nan],\n       [nan],\n       [nan],\n       [nan],\n       [nan],\n       [nan],\n       [nan],\n       [nan],\n       [nan],\n       [nan],\n       [nan],\n       [nan],\n       [nan],\n       [nan],\n       [nan],\n       [nan],\n       [nan],\n       [nan],\n       [nan],\n       [nan],\n       [nan],\n       [nan],\n       [nan],\n       [nan],\n       [nan],\n       [nan],\n       [nan],\n       [nan],\n       [nan],\n       [nan],\n       [nan],\n       [nan],\n       [nan],\n       [nan],\n       [nan],\n       [nan],\n       [nan],\n       [nan],\n       [nan],\n       [nan],\n       [nan],\n       [nan],\n       [nan],\n       [nan],\n       [nan],\n       [nan],\n       [nan],\n       [nan],\n       [nan],\n       [nan],\n       [nan],\n       [nan],\n       [nan],\n       [nan],\n       [nan],\n       [nan],\n       [nan],\n       [nan],\n       [nan],\n       [nan],\n       [nan],\n       [nan],\n       [nan],\n       [nan],\n       [nan],\n       [nan],\n       [nan],\n       [nan],\n       [nan],\n       [nan],\n       [nan],\n       [nan],\n       [nan],\n       [nan],\n       [nan],\n       [nan],\n       [nan],\n       [nan],\n       [nan],\n       [nan],\n       [nan],\n       [nan],\n       [nan],\n       [nan],\n       [nan],\n       [nan],\n       [nan],\n       [nan],\n       [nan],\n       [nan],\n       [nan],\n       [nan],\n       [nan],\n       [nan],\n       [nan],\n       [nan],\n       [nan],\n       [nan],\n       [nan],\n       [nan],\n       [nan],\n       [nan],\n       [nan],\n       [nan],\n       [nan],\n       [nan],\n       [nan],\n       [nan],\n       [nan],\n       [nan],\n       [nan],\n       [nan],\n       [nan],\n       [nan],\n       [nan],\n       [nan],\n       [nan],\n       [nan],\n       [nan],\n       [nan],\n       [nan],\n       [nan],\n       [nan],\n       [nan],\n       [nan],\n       [nan],\n       [nan],\n       [nan],\n       [nan],\n       [nan],\n       [nan],\n       [nan],\n       [nan],\n       [nan],\n       [nan],\n       [nan],\n       [nan],\n       [nan],\n       [nan],\n       [nan],\n       [nan],\n       [nan],\n       [nan],\n       [nan],\n       [nan],\n       [nan],\n       [nan],\n       [nan],\n       [nan],\n       [nan],\n       [nan],\n       [nan],\n       [nan],\n       [nan],\n       [nan],\n       [nan],\n       [nan],\n       [nan],\n       [nan],\n       [nan],\n       [nan],\n       [nan],\n       [nan],\n       [nan],\n       [nan],\n       [nan],\n       [nan],\n       [nan],\n       [nan],\n       [nan],\n       [nan],\n       [nan],\n       [nan],\n       [nan],\n       [nan],\n       [nan],\n       [nan],\n       [nan],\n       [nan],\n       [nan],\n       [nan],\n       [nan],\n       [nan],\n       [nan],\n       [nan],\n       [nan],\n       [nan],\n       [nan],\n       [nan],\n       [nan],\n       [nan],\n       [nan],\n       [nan],\n       [nan],\n       [nan],\n       [nan],\n       [nan],\n       [nan],\n       [nan],\n       [nan],\n       [nan],\n       [nan],\n       [nan],\n       [nan],\n       [nan],\n       [nan],\n       [nan],\n       [nan],\n       [nan],\n       [nan],\n       [nan],\n       [nan],\n       [nan],\n       [nan]])"
     },
     "metadata": {},
     "output_type": "execute_result",
     "execution_count": 45
    }
   ],
   "source": [
    "tf_idf\n",
    "\n"
   ],
   "metadata": {
    "collapsed": false,
    "pycharm": {
     "name": "#%%\n",
     "is_executing": false
    }
   }
  },
  {
   "cell_type": "code",
   "execution_count": null,
   "outputs": [],
   "source": [
    "\n"
   ],
   "metadata": {
    "collapsed": false,
    "pycharm": {
     "name": "#%%\n"
    }
   }
  }
 ],
 "metadata": {
  "language_info": {
   "codemirror_mode": {
    "name": "ipython",
    "version": 2
   },
   "file_extension": ".py",
   "mimetype": "text/x-python",
   "name": "python",
   "nbconvert_exporter": "python",
   "pygments_lexer": "ipython2",
   "version": "2.7.6"
  },
  "kernelspec": {
   "name": "python3",
   "language": "python",
   "display_name": "Python 3"
  },
  "pycharm": {
   "stem_cell": {
    "cell_type": "raw",
    "source": [],
    "metadata": {
     "collapsed": false
    }
   }
  }
 },
 "nbformat": 4,
 "nbformat_minor": 0
}