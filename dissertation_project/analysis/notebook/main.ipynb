{
 "cells": [
  {
   "cell_type": "code",
   "execution_count": 1,
   "metadata": {
    "collapsed": true,
    "pycharm": {
     "name": "#%%\n"
    }
   },
   "outputs": [],
   "source": [
    "from sklearn.neighbors import KNeighborsClassifier\n",
    "from sklearn.model_selection import train_test_split\n",
    "import pandas as pd"
   ]
  },
  {
   "cell_type": "code",
   "execution_count": 2,
   "outputs": [
    {
     "data": {
      "text/plain": "       Unnamed: 0               PN  PD_YEAR  foaming  vessel  resilience  \\\n0               0  WO2015127067-A1     2015      0.0     0.0         0.0   \n1               1     US9482882-B1     2016      0.0     0.0         0.0   \n2               2  US2016077587-A1     2016      0.0     0.0         0.0   \n3               3  WO2015200209-A1     2015      0.0     0.0         0.0   \n4               4    CN104777987-A     2015      0.0     0.0         0.0   \n...           ...              ...      ...      ...     ...         ...   \n12813       12813     KR1481812-B1     2015      0.0     0.0         0.0   \n12814       12814    CN204078682-U     2015      0.0     0.0         0.0   \n12815       12815    CN204070616-U     2015      0.0     0.0         0.0   \n12816       12816    CN204090058-U     2015      0.0     0.0         0.0   \n12817       12817  US2015002475-A1     2015      0.0     0.0         0.0   \n\n       refreshment  adjustable neck support  user authentication device  \\\n0              0.0                      0.0                         0.0   \n1              0.0                      0.0                         0.0   \n2              0.0                      0.0                         0.0   \n3              0.0                      0.0                         0.0   \n4              0.0                      0.0                         0.0   \n...            ...                      ...                         ...   \n12813          0.0                      0.0                         0.0   \n12814          0.0                      0.0                         0.0   \n12815          0.0                      0.0                         0.0   \n12816          0.0                      0.0                         0.0   \n12817          0.0                      0.0                         0.0   \n\n       successfully  ...  stearate  sidewall  uploads  power connection  \\\n0               0.0  ...       0.0       0.0      0.0               0.0   \n1               0.0  ...       0.0       0.0      0.0               0.0   \n2               0.0  ...       0.0       0.0      0.0               0.0   \n3               0.0  ...       0.0       0.0      0.0               0.0   \n4               0.0  ...       0.0       0.0      0.0               0.0   \n...             ...  ...       ...       ...      ...               ...   \n12813           0.0  ...       0.0       0.0      0.0               0.0   \n12814           0.0  ...       0.0       0.0      0.0               0.0   \n12815           0.0  ...       0.0       0.0      0.0               0.0   \n12816           0.0  ...       0.0       0.0      0.0               0.0   \n12817           0.0  ...       0.0       0.0      0.0               0.0   \n\n       rotatably connected  inspiration  user terminals  reader  \\\n0                      0.0          0.0             0.0     0.0   \n1                      0.0          0.0             0.0     0.0   \n2                      0.0          0.0             0.0     0.0   \n3                      0.0          0.0             0.0     0.0   \n4                      0.0          0.0             0.0     0.0   \n...                    ...          ...             ...     ...   \n12813                  0.0          0.0             0.0     0.0   \n12814                  0.0          0.0             0.0     0.0   \n12815                  0.0          0.0             0.0     0.0   \n12816                  0.0          0.0             0.0     0.0   \n12817                  0.0          0.0             0.0     0.0   \n\n       intelligent riding  TC  \n0                     0.0  51  \n1                     0.0  32  \n2                     0.0  32  \n3                     0.0  29  \n4                     0.0  29  \n...                   ...  ..  \n12813                 0.0   0  \n12814                 0.0   0  \n12815                 0.0   0  \n12816                 0.0   0  \n12817                 0.0   0  \n\n[12818 rows x 8060 columns]",
      "text/html": "<div>\n<style scoped>\n    .dataframe tbody tr th:only-of-type {\n        vertical-align: middle;\n    }\n\n    .dataframe tbody tr th {\n        vertical-align: top;\n    }\n\n    .dataframe thead th {\n        text-align: right;\n    }\n</style>\n<table border=\"1\" class=\"dataframe\">\n  <thead>\n    <tr style=\"text-align: right;\">\n      <th></th>\n      <th>Unnamed: 0</th>\n      <th>PN</th>\n      <th>PD_YEAR</th>\n      <th>foaming</th>\n      <th>vessel</th>\n      <th>resilience</th>\n      <th>refreshment</th>\n      <th>adjustable neck support</th>\n      <th>user authentication device</th>\n      <th>successfully</th>\n      <th>...</th>\n      <th>stearate</th>\n      <th>sidewall</th>\n      <th>uploads</th>\n      <th>power connection</th>\n      <th>rotatably connected</th>\n      <th>inspiration</th>\n      <th>user terminals</th>\n      <th>reader</th>\n      <th>intelligent riding</th>\n      <th>TC</th>\n    </tr>\n  </thead>\n  <tbody>\n    <tr>\n      <th>0</th>\n      <td>0</td>\n      <td>WO2015127067-A1</td>\n      <td>2015</td>\n      <td>0.0</td>\n      <td>0.0</td>\n      <td>0.0</td>\n      <td>0.0</td>\n      <td>0.0</td>\n      <td>0.0</td>\n      <td>0.0</td>\n      <td>...</td>\n      <td>0.0</td>\n      <td>0.0</td>\n      <td>0.0</td>\n      <td>0.0</td>\n      <td>0.0</td>\n      <td>0.0</td>\n      <td>0.0</td>\n      <td>0.0</td>\n      <td>0.0</td>\n      <td>51</td>\n    </tr>\n    <tr>\n      <th>1</th>\n      <td>1</td>\n      <td>US9482882-B1</td>\n      <td>2016</td>\n      <td>0.0</td>\n      <td>0.0</td>\n      <td>0.0</td>\n      <td>0.0</td>\n      <td>0.0</td>\n      <td>0.0</td>\n      <td>0.0</td>\n      <td>...</td>\n      <td>0.0</td>\n      <td>0.0</td>\n      <td>0.0</td>\n      <td>0.0</td>\n      <td>0.0</td>\n      <td>0.0</td>\n      <td>0.0</td>\n      <td>0.0</td>\n      <td>0.0</td>\n      <td>32</td>\n    </tr>\n    <tr>\n      <th>2</th>\n      <td>2</td>\n      <td>US2016077587-A1</td>\n      <td>2016</td>\n      <td>0.0</td>\n      <td>0.0</td>\n      <td>0.0</td>\n      <td>0.0</td>\n      <td>0.0</td>\n      <td>0.0</td>\n      <td>0.0</td>\n      <td>...</td>\n      <td>0.0</td>\n      <td>0.0</td>\n      <td>0.0</td>\n      <td>0.0</td>\n      <td>0.0</td>\n      <td>0.0</td>\n      <td>0.0</td>\n      <td>0.0</td>\n      <td>0.0</td>\n      <td>32</td>\n    </tr>\n    <tr>\n      <th>3</th>\n      <td>3</td>\n      <td>WO2015200209-A1</td>\n      <td>2015</td>\n      <td>0.0</td>\n      <td>0.0</td>\n      <td>0.0</td>\n      <td>0.0</td>\n      <td>0.0</td>\n      <td>0.0</td>\n      <td>0.0</td>\n      <td>...</td>\n      <td>0.0</td>\n      <td>0.0</td>\n      <td>0.0</td>\n      <td>0.0</td>\n      <td>0.0</td>\n      <td>0.0</td>\n      <td>0.0</td>\n      <td>0.0</td>\n      <td>0.0</td>\n      <td>29</td>\n    </tr>\n    <tr>\n      <th>4</th>\n      <td>4</td>\n      <td>CN104777987-A</td>\n      <td>2015</td>\n      <td>0.0</td>\n      <td>0.0</td>\n      <td>0.0</td>\n      <td>0.0</td>\n      <td>0.0</td>\n      <td>0.0</td>\n      <td>0.0</td>\n      <td>...</td>\n      <td>0.0</td>\n      <td>0.0</td>\n      <td>0.0</td>\n      <td>0.0</td>\n      <td>0.0</td>\n      <td>0.0</td>\n      <td>0.0</td>\n      <td>0.0</td>\n      <td>0.0</td>\n      <td>29</td>\n    </tr>\n    <tr>\n      <th>...</th>\n      <td>...</td>\n      <td>...</td>\n      <td>...</td>\n      <td>...</td>\n      <td>...</td>\n      <td>...</td>\n      <td>...</td>\n      <td>...</td>\n      <td>...</td>\n      <td>...</td>\n      <td>...</td>\n      <td>...</td>\n      <td>...</td>\n      <td>...</td>\n      <td>...</td>\n      <td>...</td>\n      <td>...</td>\n      <td>...</td>\n      <td>...</td>\n      <td>...</td>\n      <td>...</td>\n    </tr>\n    <tr>\n      <th>12813</th>\n      <td>12813</td>\n      <td>KR1481812-B1</td>\n      <td>2015</td>\n      <td>0.0</td>\n      <td>0.0</td>\n      <td>0.0</td>\n      <td>0.0</td>\n      <td>0.0</td>\n      <td>0.0</td>\n      <td>0.0</td>\n      <td>...</td>\n      <td>0.0</td>\n      <td>0.0</td>\n      <td>0.0</td>\n      <td>0.0</td>\n      <td>0.0</td>\n      <td>0.0</td>\n      <td>0.0</td>\n      <td>0.0</td>\n      <td>0.0</td>\n      <td>0</td>\n    </tr>\n    <tr>\n      <th>12814</th>\n      <td>12814</td>\n      <td>CN204078682-U</td>\n      <td>2015</td>\n      <td>0.0</td>\n      <td>0.0</td>\n      <td>0.0</td>\n      <td>0.0</td>\n      <td>0.0</td>\n      <td>0.0</td>\n      <td>0.0</td>\n      <td>...</td>\n      <td>0.0</td>\n      <td>0.0</td>\n      <td>0.0</td>\n      <td>0.0</td>\n      <td>0.0</td>\n      <td>0.0</td>\n      <td>0.0</td>\n      <td>0.0</td>\n      <td>0.0</td>\n      <td>0</td>\n    </tr>\n    <tr>\n      <th>12815</th>\n      <td>12815</td>\n      <td>CN204070616-U</td>\n      <td>2015</td>\n      <td>0.0</td>\n      <td>0.0</td>\n      <td>0.0</td>\n      <td>0.0</td>\n      <td>0.0</td>\n      <td>0.0</td>\n      <td>0.0</td>\n      <td>...</td>\n      <td>0.0</td>\n      <td>0.0</td>\n      <td>0.0</td>\n      <td>0.0</td>\n      <td>0.0</td>\n      <td>0.0</td>\n      <td>0.0</td>\n      <td>0.0</td>\n      <td>0.0</td>\n      <td>0</td>\n    </tr>\n    <tr>\n      <th>12816</th>\n      <td>12816</td>\n      <td>CN204090058-U</td>\n      <td>2015</td>\n      <td>0.0</td>\n      <td>0.0</td>\n      <td>0.0</td>\n      <td>0.0</td>\n      <td>0.0</td>\n      <td>0.0</td>\n      <td>0.0</td>\n      <td>...</td>\n      <td>0.0</td>\n      <td>0.0</td>\n      <td>0.0</td>\n      <td>0.0</td>\n      <td>0.0</td>\n      <td>0.0</td>\n      <td>0.0</td>\n      <td>0.0</td>\n      <td>0.0</td>\n      <td>0</td>\n    </tr>\n    <tr>\n      <th>12817</th>\n      <td>12817</td>\n      <td>US2015002475-A1</td>\n      <td>2015</td>\n      <td>0.0</td>\n      <td>0.0</td>\n      <td>0.0</td>\n      <td>0.0</td>\n      <td>0.0</td>\n      <td>0.0</td>\n      <td>0.0</td>\n      <td>...</td>\n      <td>0.0</td>\n      <td>0.0</td>\n      <td>0.0</td>\n      <td>0.0</td>\n      <td>0.0</td>\n      <td>0.0</td>\n      <td>0.0</td>\n      <td>0.0</td>\n      <td>0.0</td>\n      <td>0</td>\n    </tr>\n  </tbody>\n</table>\n<p>12818 rows × 8060 columns</p>\n</div>"
     },
     "execution_count": 2,
     "metadata": {},
     "output_type": "execute_result"
    }
   ],
   "source": [
    "keyword_matrix=pd.read_csv(r'F:\\project\\pycharm_workplace\\dissertation_project\\etl_data\\data\\keyword_matrix.csv')\n",
    "keyword_matrix"
   ],
   "metadata": {
    "collapsed": false,
    "pycharm": {
     "name": "#%%\n"
    }
   }
  },
  {
   "cell_type": "code",
   "execution_count": 3,
   "outputs": [
    {
     "data": {
      "text/plain": "                    PN  PD_YEAR  foaming  vessel  resilience  refreshment  \\\n0      WO2015127067-A1     2015      0.0     0.0         0.0          0.0   \n1         US9482882-B1     2016      0.0     0.0         0.0          0.0   \n2      US2016077587-A1     2016      0.0     0.0         0.0          0.0   \n3      WO2015200209-A1     2015      0.0     0.0         0.0          0.0   \n4        CN104777987-A     2015      0.0     0.0         0.0          0.0   \n...                ...      ...      ...     ...         ...          ...   \n12813     KR1481812-B1     2015      0.0     0.0         0.0          0.0   \n12814    CN204078682-U     2015      0.0     0.0         0.0          0.0   \n12815    CN204070616-U     2015      0.0     0.0         0.0          0.0   \n12816    CN204090058-U     2015      0.0     0.0         0.0          0.0   \n12817  US2015002475-A1     2015      0.0     0.0         0.0          0.0   \n\n       adjustable neck support  user authentication device  successfully  \\\n0                          0.0                         0.0           0.0   \n1                          0.0                         0.0           0.0   \n2                          0.0                         0.0           0.0   \n3                          0.0                         0.0           0.0   \n4                          0.0                         0.0           0.0   \n...                        ...                         ...           ...   \n12813                      0.0                         0.0           0.0   \n12814                      0.0                         0.0           0.0   \n12815                      0.0                         0.0           0.0   \n12816                      0.0                         0.0           0.0   \n12817                      0.0                         0.0           0.0   \n\n       vibration motor  ...  stearate  sidewall  uploads  power connection  \\\n0                  0.0  ...       0.0       0.0      0.0               0.0   \n1                  0.0  ...       0.0       0.0      0.0               0.0   \n2                  0.0  ...       0.0       0.0      0.0               0.0   \n3                  0.0  ...       0.0       0.0      0.0               0.0   \n4                  0.0  ...       0.0       0.0      0.0               0.0   \n...                ...  ...       ...       ...      ...               ...   \n12813              0.0  ...       0.0       0.0      0.0               0.0   \n12814              0.0  ...       0.0       0.0      0.0               0.0   \n12815              0.0  ...       0.0       0.0      0.0               0.0   \n12816              0.0  ...       0.0       0.0      0.0               0.0   \n12817              0.0  ...       0.0       0.0      0.0               0.0   \n\n       rotatably connected  inspiration  user terminals  reader  \\\n0                      0.0          0.0             0.0     0.0   \n1                      0.0          0.0             0.0     0.0   \n2                      0.0          0.0             0.0     0.0   \n3                      0.0          0.0             0.0     0.0   \n4                      0.0          0.0             0.0     0.0   \n...                    ...          ...             ...     ...   \n12813                  0.0          0.0             0.0     0.0   \n12814                  0.0          0.0             0.0     0.0   \n12815                  0.0          0.0             0.0     0.0   \n12816                  0.0          0.0             0.0     0.0   \n12817                  0.0          0.0             0.0     0.0   \n\n       intelligent riding  TC  \n0                     0.0  51  \n1                     0.0  32  \n2                     0.0  32  \n3                     0.0  29  \n4                     0.0  29  \n...                   ...  ..  \n12813                 0.0   0  \n12814                 0.0   0  \n12815                 0.0   0  \n12816                 0.0   0  \n12817                 0.0   0  \n\n[12818 rows x 8059 columns]",
      "text/html": "<div>\n<style scoped>\n    .dataframe tbody tr th:only-of-type {\n        vertical-align: middle;\n    }\n\n    .dataframe tbody tr th {\n        vertical-align: top;\n    }\n\n    .dataframe thead th {\n        text-align: right;\n    }\n</style>\n<table border=\"1\" class=\"dataframe\">\n  <thead>\n    <tr style=\"text-align: right;\">\n      <th></th>\n      <th>PN</th>\n      <th>PD_YEAR</th>\n      <th>foaming</th>\n      <th>vessel</th>\n      <th>resilience</th>\n      <th>refreshment</th>\n      <th>adjustable neck support</th>\n      <th>user authentication device</th>\n      <th>successfully</th>\n      <th>vibration motor</th>\n      <th>...</th>\n      <th>stearate</th>\n      <th>sidewall</th>\n      <th>uploads</th>\n      <th>power connection</th>\n      <th>rotatably connected</th>\n      <th>inspiration</th>\n      <th>user terminals</th>\n      <th>reader</th>\n      <th>intelligent riding</th>\n      <th>TC</th>\n    </tr>\n  </thead>\n  <tbody>\n    <tr>\n      <th>0</th>\n      <td>WO2015127067-A1</td>\n      <td>2015</td>\n      <td>0.0</td>\n      <td>0.0</td>\n      <td>0.0</td>\n      <td>0.0</td>\n      <td>0.0</td>\n      <td>0.0</td>\n      <td>0.0</td>\n      <td>0.0</td>\n      <td>...</td>\n      <td>0.0</td>\n      <td>0.0</td>\n      <td>0.0</td>\n      <td>0.0</td>\n      <td>0.0</td>\n      <td>0.0</td>\n      <td>0.0</td>\n      <td>0.0</td>\n      <td>0.0</td>\n      <td>51</td>\n    </tr>\n    <tr>\n      <th>1</th>\n      <td>US9482882-B1</td>\n      <td>2016</td>\n      <td>0.0</td>\n      <td>0.0</td>\n      <td>0.0</td>\n      <td>0.0</td>\n      <td>0.0</td>\n      <td>0.0</td>\n      <td>0.0</td>\n      <td>0.0</td>\n      <td>...</td>\n      <td>0.0</td>\n      <td>0.0</td>\n      <td>0.0</td>\n      <td>0.0</td>\n      <td>0.0</td>\n      <td>0.0</td>\n      <td>0.0</td>\n      <td>0.0</td>\n      <td>0.0</td>\n      <td>32</td>\n    </tr>\n    <tr>\n      <th>2</th>\n      <td>US2016077587-A1</td>\n      <td>2016</td>\n      <td>0.0</td>\n      <td>0.0</td>\n      <td>0.0</td>\n      <td>0.0</td>\n      <td>0.0</td>\n      <td>0.0</td>\n      <td>0.0</td>\n      <td>0.0</td>\n      <td>...</td>\n      <td>0.0</td>\n      <td>0.0</td>\n      <td>0.0</td>\n      <td>0.0</td>\n      <td>0.0</td>\n      <td>0.0</td>\n      <td>0.0</td>\n      <td>0.0</td>\n      <td>0.0</td>\n      <td>32</td>\n    </tr>\n    <tr>\n      <th>3</th>\n      <td>WO2015200209-A1</td>\n      <td>2015</td>\n      <td>0.0</td>\n      <td>0.0</td>\n      <td>0.0</td>\n      <td>0.0</td>\n      <td>0.0</td>\n      <td>0.0</td>\n      <td>0.0</td>\n      <td>0.0</td>\n      <td>...</td>\n      <td>0.0</td>\n      <td>0.0</td>\n      <td>0.0</td>\n      <td>0.0</td>\n      <td>0.0</td>\n      <td>0.0</td>\n      <td>0.0</td>\n      <td>0.0</td>\n      <td>0.0</td>\n      <td>29</td>\n    </tr>\n    <tr>\n      <th>4</th>\n      <td>CN104777987-A</td>\n      <td>2015</td>\n      <td>0.0</td>\n      <td>0.0</td>\n      <td>0.0</td>\n      <td>0.0</td>\n      <td>0.0</td>\n      <td>0.0</td>\n      <td>0.0</td>\n      <td>0.0</td>\n      <td>...</td>\n      <td>0.0</td>\n      <td>0.0</td>\n      <td>0.0</td>\n      <td>0.0</td>\n      <td>0.0</td>\n      <td>0.0</td>\n      <td>0.0</td>\n      <td>0.0</td>\n      <td>0.0</td>\n      <td>29</td>\n    </tr>\n    <tr>\n      <th>...</th>\n      <td>...</td>\n      <td>...</td>\n      <td>...</td>\n      <td>...</td>\n      <td>...</td>\n      <td>...</td>\n      <td>...</td>\n      <td>...</td>\n      <td>...</td>\n      <td>...</td>\n      <td>...</td>\n      <td>...</td>\n      <td>...</td>\n      <td>...</td>\n      <td>...</td>\n      <td>...</td>\n      <td>...</td>\n      <td>...</td>\n      <td>...</td>\n      <td>...</td>\n      <td>...</td>\n    </tr>\n    <tr>\n      <th>12813</th>\n      <td>KR1481812-B1</td>\n      <td>2015</td>\n      <td>0.0</td>\n      <td>0.0</td>\n      <td>0.0</td>\n      <td>0.0</td>\n      <td>0.0</td>\n      <td>0.0</td>\n      <td>0.0</td>\n      <td>0.0</td>\n      <td>...</td>\n      <td>0.0</td>\n      <td>0.0</td>\n      <td>0.0</td>\n      <td>0.0</td>\n      <td>0.0</td>\n      <td>0.0</td>\n      <td>0.0</td>\n      <td>0.0</td>\n      <td>0.0</td>\n      <td>0</td>\n    </tr>\n    <tr>\n      <th>12814</th>\n      <td>CN204078682-U</td>\n      <td>2015</td>\n      <td>0.0</td>\n      <td>0.0</td>\n      <td>0.0</td>\n      <td>0.0</td>\n      <td>0.0</td>\n      <td>0.0</td>\n      <td>0.0</td>\n      <td>0.0</td>\n      <td>...</td>\n      <td>0.0</td>\n      <td>0.0</td>\n      <td>0.0</td>\n      <td>0.0</td>\n      <td>0.0</td>\n      <td>0.0</td>\n      <td>0.0</td>\n      <td>0.0</td>\n      <td>0.0</td>\n      <td>0</td>\n    </tr>\n    <tr>\n      <th>12815</th>\n      <td>CN204070616-U</td>\n      <td>2015</td>\n      <td>0.0</td>\n      <td>0.0</td>\n      <td>0.0</td>\n      <td>0.0</td>\n      <td>0.0</td>\n      <td>0.0</td>\n      <td>0.0</td>\n      <td>0.0</td>\n      <td>...</td>\n      <td>0.0</td>\n      <td>0.0</td>\n      <td>0.0</td>\n      <td>0.0</td>\n      <td>0.0</td>\n      <td>0.0</td>\n      <td>0.0</td>\n      <td>0.0</td>\n      <td>0.0</td>\n      <td>0</td>\n    </tr>\n    <tr>\n      <th>12816</th>\n      <td>CN204090058-U</td>\n      <td>2015</td>\n      <td>0.0</td>\n      <td>0.0</td>\n      <td>0.0</td>\n      <td>0.0</td>\n      <td>0.0</td>\n      <td>0.0</td>\n      <td>0.0</td>\n      <td>0.0</td>\n      <td>...</td>\n      <td>0.0</td>\n      <td>0.0</td>\n      <td>0.0</td>\n      <td>0.0</td>\n      <td>0.0</td>\n      <td>0.0</td>\n      <td>0.0</td>\n      <td>0.0</td>\n      <td>0.0</td>\n      <td>0</td>\n    </tr>\n    <tr>\n      <th>12817</th>\n      <td>US2015002475-A1</td>\n      <td>2015</td>\n      <td>0.0</td>\n      <td>0.0</td>\n      <td>0.0</td>\n      <td>0.0</td>\n      <td>0.0</td>\n      <td>0.0</td>\n      <td>0.0</td>\n      <td>0.0</td>\n      <td>...</td>\n      <td>0.0</td>\n      <td>0.0</td>\n      <td>0.0</td>\n      <td>0.0</td>\n      <td>0.0</td>\n      <td>0.0</td>\n      <td>0.0</td>\n      <td>0.0</td>\n      <td>0.0</td>\n      <td>0</td>\n    </tr>\n  </tbody>\n</table>\n<p>12818 rows × 8059 columns</p>\n</div>"
     },
     "execution_count": 3,
     "metadata": {},
     "output_type": "execute_result"
    }
   ],
   "source": [
    "keyword_matrix.drop(columns=['Unnamed: 0'],inplace=True)\n",
    "keyword_matrix"
   ],
   "metadata": {
    "collapsed": false,
    "pycharm": {
     "name": "#%%\n"
    }
   }
  },
  {
   "cell_type": "code",
   "execution_count": 4,
   "outputs": [],
   "source": [
    "data=keyword_matrix.iloc[:,2:keyword_matrix.shape[1]-1]\n",
    "target=keyword_matrix.iloc[:,keyword_matrix.shape[1]-1]"
   ],
   "metadata": {
    "collapsed": false,
    "pycharm": {
     "name": "#%%\n"
    }
   }
  },
  {
   "cell_type": "code",
   "execution_count": 5,
   "outputs": [
    {
     "data": {
      "text/plain": "0        51\n1        32\n2        32\n3        29\n4        29\n         ..\n12813     0\n12814     0\n12815     0\n12816     0\n12817     0\nName: TC, Length: 12818, dtype: int64"
     },
     "execution_count": 5,
     "metadata": {},
     "output_type": "execute_result"
    }
   ],
   "source": [
    "target"
   ],
   "metadata": {
    "collapsed": false,
    "pycharm": {
     "name": "#%%\n"
    }
   }
  },
  {
   "cell_type": "code",
   "execution_count": 6,
   "outputs": [
    {
     "data": {
      "text/plain": "       foaming  vessel  resilience  refreshment  adjustable neck support  \\\n0          0.0     0.0         0.0          0.0                      0.0   \n1          0.0     0.0         0.0          0.0                      0.0   \n2          0.0     0.0         0.0          0.0                      0.0   \n3          0.0     0.0         0.0          0.0                      0.0   \n4          0.0     0.0         0.0          0.0                      0.0   \n...        ...     ...         ...          ...                      ...   \n12813      0.0     0.0         0.0          0.0                      0.0   \n12814      0.0     0.0         0.0          0.0                      0.0   \n12815      0.0     0.0         0.0          0.0                      0.0   \n12816      0.0     0.0         0.0          0.0                      0.0   \n12817      0.0     0.0         0.0          0.0                      0.0   \n\n       user authentication device  successfully  vibration motor  \\\n0                             0.0           0.0              0.0   \n1                             0.0           0.0              0.0   \n2                             0.0           0.0              0.0   \n3                             0.0           0.0              0.0   \n4                             0.0           0.0              0.0   \n...                           ...           ...              ...   \n12813                         0.0           0.0              0.0   \n12814                         0.0           0.0              0.0   \n12815                         0.0           0.0              0.0   \n12816                         0.0           0.0              0.0   \n12817                         0.0           0.0              0.0   \n\n       display mode  uploading  ...  active  stearate  sidewall  uploads  \\\n0               0.0        0.0  ...     0.0       0.0       0.0      0.0   \n1               0.0        0.0  ...     0.0       0.0       0.0      0.0   \n2               0.0        0.0  ...     0.0       0.0       0.0      0.0   \n3               0.0        0.0  ...     0.0       0.0       0.0      0.0   \n4               0.0        0.0  ...     0.0       0.0       0.0      0.0   \n...             ...        ...  ...     ...       ...       ...      ...   \n12813           0.0        0.0  ...     0.0       0.0       0.0      0.0   \n12814           0.0        0.0  ...     0.0       0.0       0.0      0.0   \n12815           0.0        0.0  ...     0.0       0.0       0.0      0.0   \n12816           0.0        0.0  ...     0.0       0.0       0.0      0.0   \n12817           0.0        0.0  ...     0.0       0.0       0.0      0.0   \n\n       power connection  rotatably connected  inspiration  user terminals  \\\n0                   0.0                  0.0          0.0             0.0   \n1                   0.0                  0.0          0.0             0.0   \n2                   0.0                  0.0          0.0             0.0   \n3                   0.0                  0.0          0.0             0.0   \n4                   0.0                  0.0          0.0             0.0   \n...                 ...                  ...          ...             ...   \n12813               0.0                  0.0          0.0             0.0   \n12814               0.0                  0.0          0.0             0.0   \n12815               0.0                  0.0          0.0             0.0   \n12816               0.0                  0.0          0.0             0.0   \n12817               0.0                  0.0          0.0             0.0   \n\n       reader  intelligent riding  \n0         0.0                 0.0  \n1         0.0                 0.0  \n2         0.0                 0.0  \n3         0.0                 0.0  \n4         0.0                 0.0  \n...       ...                 ...  \n12813     0.0                 0.0  \n12814     0.0                 0.0  \n12815     0.0                 0.0  \n12816     0.0                 0.0  \n12817     0.0                 0.0  \n\n[12818 rows x 8056 columns]",
      "text/html": "<div>\n<style scoped>\n    .dataframe tbody tr th:only-of-type {\n        vertical-align: middle;\n    }\n\n    .dataframe tbody tr th {\n        vertical-align: top;\n    }\n\n    .dataframe thead th {\n        text-align: right;\n    }\n</style>\n<table border=\"1\" class=\"dataframe\">\n  <thead>\n    <tr style=\"text-align: right;\">\n      <th></th>\n      <th>foaming</th>\n      <th>vessel</th>\n      <th>resilience</th>\n      <th>refreshment</th>\n      <th>adjustable neck support</th>\n      <th>user authentication device</th>\n      <th>successfully</th>\n      <th>vibration motor</th>\n      <th>display mode</th>\n      <th>uploading</th>\n      <th>...</th>\n      <th>active</th>\n      <th>stearate</th>\n      <th>sidewall</th>\n      <th>uploads</th>\n      <th>power connection</th>\n      <th>rotatably connected</th>\n      <th>inspiration</th>\n      <th>user terminals</th>\n      <th>reader</th>\n      <th>intelligent riding</th>\n    </tr>\n  </thead>\n  <tbody>\n    <tr>\n      <th>0</th>\n      <td>0.0</td>\n      <td>0.0</td>\n      <td>0.0</td>\n      <td>0.0</td>\n      <td>0.0</td>\n      <td>0.0</td>\n      <td>0.0</td>\n      <td>0.0</td>\n      <td>0.0</td>\n      <td>0.0</td>\n      <td>...</td>\n      <td>0.0</td>\n      <td>0.0</td>\n      <td>0.0</td>\n      <td>0.0</td>\n      <td>0.0</td>\n      <td>0.0</td>\n      <td>0.0</td>\n      <td>0.0</td>\n      <td>0.0</td>\n      <td>0.0</td>\n    </tr>\n    <tr>\n      <th>1</th>\n      <td>0.0</td>\n      <td>0.0</td>\n      <td>0.0</td>\n      <td>0.0</td>\n      <td>0.0</td>\n      <td>0.0</td>\n      <td>0.0</td>\n      <td>0.0</td>\n      <td>0.0</td>\n      <td>0.0</td>\n      <td>...</td>\n      <td>0.0</td>\n      <td>0.0</td>\n      <td>0.0</td>\n      <td>0.0</td>\n      <td>0.0</td>\n      <td>0.0</td>\n      <td>0.0</td>\n      <td>0.0</td>\n      <td>0.0</td>\n      <td>0.0</td>\n    </tr>\n    <tr>\n      <th>2</th>\n      <td>0.0</td>\n      <td>0.0</td>\n      <td>0.0</td>\n      <td>0.0</td>\n      <td>0.0</td>\n      <td>0.0</td>\n      <td>0.0</td>\n      <td>0.0</td>\n      <td>0.0</td>\n      <td>0.0</td>\n      <td>...</td>\n      <td>0.0</td>\n      <td>0.0</td>\n      <td>0.0</td>\n      <td>0.0</td>\n      <td>0.0</td>\n      <td>0.0</td>\n      <td>0.0</td>\n      <td>0.0</td>\n      <td>0.0</td>\n      <td>0.0</td>\n    </tr>\n    <tr>\n      <th>3</th>\n      <td>0.0</td>\n      <td>0.0</td>\n      <td>0.0</td>\n      <td>0.0</td>\n      <td>0.0</td>\n      <td>0.0</td>\n      <td>0.0</td>\n      <td>0.0</td>\n      <td>0.0</td>\n      <td>0.0</td>\n      <td>...</td>\n      <td>0.0</td>\n      <td>0.0</td>\n      <td>0.0</td>\n      <td>0.0</td>\n      <td>0.0</td>\n      <td>0.0</td>\n      <td>0.0</td>\n      <td>0.0</td>\n      <td>0.0</td>\n      <td>0.0</td>\n    </tr>\n    <tr>\n      <th>4</th>\n      <td>0.0</td>\n      <td>0.0</td>\n      <td>0.0</td>\n      <td>0.0</td>\n      <td>0.0</td>\n      <td>0.0</td>\n      <td>0.0</td>\n      <td>0.0</td>\n      <td>0.0</td>\n      <td>0.0</td>\n      <td>...</td>\n      <td>0.0</td>\n      <td>0.0</td>\n      <td>0.0</td>\n      <td>0.0</td>\n      <td>0.0</td>\n      <td>0.0</td>\n      <td>0.0</td>\n      <td>0.0</td>\n      <td>0.0</td>\n      <td>0.0</td>\n    </tr>\n    <tr>\n      <th>...</th>\n      <td>...</td>\n      <td>...</td>\n      <td>...</td>\n      <td>...</td>\n      <td>...</td>\n      <td>...</td>\n      <td>...</td>\n      <td>...</td>\n      <td>...</td>\n      <td>...</td>\n      <td>...</td>\n      <td>...</td>\n      <td>...</td>\n      <td>...</td>\n      <td>...</td>\n      <td>...</td>\n      <td>...</td>\n      <td>...</td>\n      <td>...</td>\n      <td>...</td>\n      <td>...</td>\n    </tr>\n    <tr>\n      <th>12813</th>\n      <td>0.0</td>\n      <td>0.0</td>\n      <td>0.0</td>\n      <td>0.0</td>\n      <td>0.0</td>\n      <td>0.0</td>\n      <td>0.0</td>\n      <td>0.0</td>\n      <td>0.0</td>\n      <td>0.0</td>\n      <td>...</td>\n      <td>0.0</td>\n      <td>0.0</td>\n      <td>0.0</td>\n      <td>0.0</td>\n      <td>0.0</td>\n      <td>0.0</td>\n      <td>0.0</td>\n      <td>0.0</td>\n      <td>0.0</td>\n      <td>0.0</td>\n    </tr>\n    <tr>\n      <th>12814</th>\n      <td>0.0</td>\n      <td>0.0</td>\n      <td>0.0</td>\n      <td>0.0</td>\n      <td>0.0</td>\n      <td>0.0</td>\n      <td>0.0</td>\n      <td>0.0</td>\n      <td>0.0</td>\n      <td>0.0</td>\n      <td>...</td>\n      <td>0.0</td>\n      <td>0.0</td>\n      <td>0.0</td>\n      <td>0.0</td>\n      <td>0.0</td>\n      <td>0.0</td>\n      <td>0.0</td>\n      <td>0.0</td>\n      <td>0.0</td>\n      <td>0.0</td>\n    </tr>\n    <tr>\n      <th>12815</th>\n      <td>0.0</td>\n      <td>0.0</td>\n      <td>0.0</td>\n      <td>0.0</td>\n      <td>0.0</td>\n      <td>0.0</td>\n      <td>0.0</td>\n      <td>0.0</td>\n      <td>0.0</td>\n      <td>0.0</td>\n      <td>...</td>\n      <td>0.0</td>\n      <td>0.0</td>\n      <td>0.0</td>\n      <td>0.0</td>\n      <td>0.0</td>\n      <td>0.0</td>\n      <td>0.0</td>\n      <td>0.0</td>\n      <td>0.0</td>\n      <td>0.0</td>\n    </tr>\n    <tr>\n      <th>12816</th>\n      <td>0.0</td>\n      <td>0.0</td>\n      <td>0.0</td>\n      <td>0.0</td>\n      <td>0.0</td>\n      <td>0.0</td>\n      <td>0.0</td>\n      <td>0.0</td>\n      <td>0.0</td>\n      <td>0.0</td>\n      <td>...</td>\n      <td>0.0</td>\n      <td>0.0</td>\n      <td>0.0</td>\n      <td>0.0</td>\n      <td>0.0</td>\n      <td>0.0</td>\n      <td>0.0</td>\n      <td>0.0</td>\n      <td>0.0</td>\n      <td>0.0</td>\n    </tr>\n    <tr>\n      <th>12817</th>\n      <td>0.0</td>\n      <td>0.0</td>\n      <td>0.0</td>\n      <td>0.0</td>\n      <td>0.0</td>\n      <td>0.0</td>\n      <td>0.0</td>\n      <td>0.0</td>\n      <td>0.0</td>\n      <td>0.0</td>\n      <td>...</td>\n      <td>0.0</td>\n      <td>0.0</td>\n      <td>0.0</td>\n      <td>0.0</td>\n      <td>0.0</td>\n      <td>0.0</td>\n      <td>0.0</td>\n      <td>0.0</td>\n      <td>0.0</td>\n      <td>0.0</td>\n    </tr>\n  </tbody>\n</table>\n<p>12818 rows × 8056 columns</p>\n</div>"
     },
     "execution_count": 6,
     "metadata": {},
     "output_type": "execute_result"
    }
   ],
   "source": [
    "data"
   ],
   "metadata": {
    "collapsed": false,
    "pycharm": {
     "name": "#%%\n"
    }
   }
  },
  {
   "cell_type": "code",
   "execution_count": 7,
   "outputs": [
    {
     "data": {
      "text/plain": "0        51\n1        32\n2        32\n3        29\n4        29\n         ..\n12813     0\n12814     0\n12815     0\n12816     0\n12817     0\nName: TC, Length: 12818, dtype: int64"
     },
     "execution_count": 7,
     "metadata": {},
     "output_type": "execute_result"
    }
   ],
   "source": [
    "target\n"
   ],
   "metadata": {
    "collapsed": false,
    "pycharm": {
     "name": "#%%\n"
    }
   }
  },
  {
   "cell_type": "code",
   "execution_count": 8,
   "outputs": [
    {
     "data": {
      "text/plain": "0      51\n1      32\n2      32\n3      29\n4      29\n       ..\n140     8\n148     8\n142     8\n143     8\n144     8\nName: TC, Length: 128, dtype: int64"
     },
     "execution_count": 8,
     "metadata": {},
     "output_type": "execute_result"
    }
   ],
   "source": [
    "target[target>0].sort_values(ascending=False)[:int(len(target)*0.01)]"
   ],
   "metadata": {
    "collapsed": false,
    "pycharm": {
     "name": "#%%\n"
    }
   }
  },
  {
   "cell_type": "code",
   "execution_count": 9,
   "outputs": [
    {
     "data": {
      "text/plain": "145     8\n146     8\n147     8\n132     8\n133     8\n       ..\n1472    2\n1497    2\n1540    2\n1499    2\n1534    2\nName: TC, Length: 897, dtype: int64"
     },
     "execution_count": 9,
     "metadata": {},
     "output_type": "execute_result"
    }
   ],
   "source": [
    "target[target>0].sort_values(ascending=False)[int(len(target)*0.01):int(len(target)*0.08)]"
   ],
   "metadata": {
    "collapsed": false,
    "pycharm": {
     "name": "#%%\n"
    }
   }
  },
  {
   "cell_type": "code",
   "execution_count": 10,
   "outputs": [
    {
     "data": {
      "text/plain": "1525    2\n1526    2\n1527    2\n1528    2\n1529    2\n       ..\n2424    1\n2423    1\n2422    1\n2421    1\n1821    1\nName: TC, Length: 2618, dtype: int64"
     },
     "execution_count": 10,
     "metadata": {},
     "output_type": "execute_result"
    }
   ],
   "source": [
    "target[target>0].sort_values(ascending=False)[int(len(target)*0.08):int(len(target)*0.29)]\n"
   ],
   "metadata": {
    "collapsed": false,
    "pycharm": {
     "name": "#%%\n"
    }
   }
  },
  {
   "cell_type": "code",
   "execution_count": 11,
   "outputs": [
    {
     "data": {
      "text/plain": "Series([], Name: TC, dtype: int64)"
     },
     "execution_count": 11,
     "metadata": {},
     "output_type": "execute_result"
    }
   ],
   "source": [
    "target[target>0].sort_values(ascending=False)[int(len(target)*0.29):int(len(target)*0.62)]\n"
   ],
   "metadata": {
    "collapsed": false,
    "pycharm": {
     "name": "#%%\n"
    }
   }
  },
  {
   "cell_type": "code",
   "execution_count": 12,
   "outputs": [
    {
     "data": {
      "text/plain": "9     32\n10    19\n11    12\n8     11\n13     9\n15     8\n12     7\n16     5\n17     3\n14     3\n19     3\n18     2\n32     2\n20     2\n21     2\n29     2\n22     1\n24     1\n25     1\n26     1\n28     1\n51     1\nName: TC, dtype: int64"
     },
     "execution_count": 12,
     "metadata": {},
     "output_type": "execute_result"
    }
   ],
   "source": [
    "target[target>0].sort_values(ascending=False)[:int(len(target)*0.01)].value_counts()\n",
    "# (1%)21"
   ],
   "metadata": {
    "collapsed": false,
    "pycharm": {
     "name": "#%%\n"
    }
   }
  },
  {
   "cell_type": "code",
   "execution_count": 13,
   "outputs": [
    {
     "data": {
      "text/plain": "3    350\n4    201\n5    141\n6     86\n7     49\n2     49\n8     21\nName: TC, dtype: int64"
     },
     "execution_count": 13,
     "metadata": {},
     "output_type": "execute_result"
    }
   ],
   "source": [
    "target[target>0].sort_values(ascending=False)[int(len(target)*0.01):int(len(target)*0.08)].value_counts()\n",
    "#(%8)9-20"
   ],
   "metadata": {
    "collapsed": false,
    "pycharm": {
     "name": "#%%\n"
    }
   }
  },
  {
   "cell_type": "code",
   "execution_count": 14,
   "outputs": [
    {
     "data": {
      "text/plain": "1    1907\n2     711\nName: TC, dtype: int64"
     },
     "execution_count": 14,
     "metadata": {},
     "output_type": "execute_result"
    }
   ],
   "source": [
    "target[target>0].sort_values(ascending=False)[int(len(target)*0.08):int(len(target)*0.29)].value_counts()\n",
    "#(%29)3-8"
   ],
   "metadata": {
    "collapsed": false,
    "pycharm": {
     "name": "#%%\n"
    }
   }
  },
  {
   "cell_type": "code",
   "execution_count": 15,
   "outputs": [
    {
     "data": {
      "text/plain": "Series([], Name: TC, dtype: int64)"
     },
     "execution_count": 15,
     "metadata": {},
     "output_type": "execute_result"
    }
   ],
   "source": [
    "target[target>0].sort_values(ascending=False)[int(len(target)*0.29):int(len(target)*0.62)].value_counts()\n",
    "#(62%)0-2"
   ],
   "metadata": {
    "collapsed": false,
    "pycharm": {
     "name": "#%%\n"
    }
   }
  },
  {
   "cell_type": "code",
   "execution_count": 16,
   "outputs": [],
   "source": [
    "target_str=list()\n",
    "for i,v in target.items():\n",
    "    if v>=21:\n",
    "        target_str.append('L1')\n",
    "    elif 21>v>=9:\n",
    "        target_str.append('L2')\n",
    "    elif 9>v>=3:\n",
    "        target_str.append('L3')\n",
    "    elif 3>v>=0:\n",
    "        target_str.append('L4')\n",
    "    else:\n",
    "        pass"
   ],
   "metadata": {
    "collapsed": false,
    "pycharm": {
     "name": "#%%\n"
    }
   }
  },
  {
   "cell_type": "code",
   "execution_count": 17,
   "outputs": [],
   "source": [
    "knn = KNeighborsClassifier(weights='distance')\n",
    "X_train,X_test, y_train, y_test=train_test_split(data.values.tolist(),target_str,test_size=0.2)"
   ],
   "metadata": {
    "collapsed": false,
    "pycharm": {
     "name": "#%%\n"
    }
   }
  },
  {
   "cell_type": "code",
   "execution_count": 18,
   "outputs": [],
   "source": [
    "knn.fit(X_train,y_train)\n",
    "y_predict=knn.predict(X_test)"
   ],
   "metadata": {
    "collapsed": false,
    "pycharm": {
     "name": "#%%\n"
    }
   }
  },
  {
   "cell_type": "code",
   "execution_count": 19,
   "outputs": [
    {
     "data": {
      "text/plain": "array(['L4', 'L4', 'L4', ..., 'L4', 'L4', 'L4'], dtype='<U2')"
     },
     "execution_count": 19,
     "metadata": {},
     "output_type": "execute_result"
    }
   ],
   "source": [
    "y_predict"
   ],
   "metadata": {
    "collapsed": false,
    "pycharm": {
     "name": "#%%\n"
    }
   }
  },
  {
   "cell_type": "code",
   "execution_count": 20,
   "outputs": [],
   "source": [
    "pd.DataFrame(data={'y_test':y_test}).to_csv(r'F:\\project\\pycharm_workplace\\dissertation_project\\etl_data\\data\\y_test.csv')\n",
    "pd.DataFrame(data={'y_predict':y_predict}).to_csv(r'F:\\project\\pycharm_workplace\\dissertation_project\\etl_data\\data\\y_predict.csv')"
   ],
   "metadata": {
    "collapsed": false,
    "pycharm": {
     "name": "#%%\n"
    }
   }
  },
  {
   "cell_type": "code",
   "execution_count": 62,
   "outputs": [
    {
     "data": {
      "text/plain": "0.9130265210608425"
     },
     "metadata": {},
     "output_type": "execute_result",
     "execution_count": 62
    }
   ],
   "source": [
    "knn.score(X_test,y_test)"
   ],
   "metadata": {
    "collapsed": false,
    "pycharm": {
     "name": "#%%\n",
     "is_executing": false
    }
   }
  },
  {
   "cell_type": "code",
   "execution_count": 63,
   "outputs": [],
   "source": [
    "from sklearn.metrics import confusion_matrix\n",
    "from sklearn.metrics import accuracy_score\n",
    "from sklearn.metrics import precision_score\n",
    "from sklearn.metrics import recall_score\n",
    "from sklearn.metrics import f1_score"
   ],
   "metadata": {
    "collapsed": false,
    "pycharm": {
     "name": "#%%\n",
     "is_executing": false
    }
   }
  },
  {
   "cell_type": "code",
   "execution_count": 64,
   "outputs": [
    {
     "data": {
      "text/plain": "array([[   0,    0,    0,    1],\n       [   0,    0,    1,   19],\n       [   0,    0,    3,  156],\n       [   0,    5,   41, 2338]], dtype=int64)"
     },
     "metadata": {},
     "output_type": "execute_result",
     "execution_count": 64
    }
   ],
   "source": [
    "# 混淆矩阵\n",
    "confusion = confusion_matrix(y_test,y_predict)\n",
    "\n",
    "confusion"
   ],
   "metadata": {
    "collapsed": false,
    "pycharm": {
     "name": "#%%\n",
     "is_executing": false
    }
   }
  },
  {
   "cell_type": "code",
   "execution_count": 65,
   "outputs": [
    {
     "data": {
      "text/plain": "0.9130265210608425"
     },
     "metadata": {},
     "output_type": "execute_result",
     "execution_count": 65
    }
   ],
   "source": [
    "# 精准率\n",
    "accuracy=accuracy_score(y_test,y_predict)\n",
    "accuracy"
   ],
   "metadata": {
    "collapsed": false,
    "pycharm": {
     "name": "#%%\n",
     "is_executing": false
    }
   }
  },
  {
   "cell_type": "code",
   "execution_count": 66,
   "outputs": [
    {
     "name": "stderr",
     "text": [
      "E:\\Python\\Anaconda\\lib\\site-packages\\sklearn\\metrics\\_classification.py:1272: UndefinedMetricWarning: Precision is ill-defined and being set to 0.0 in labels with no predicted samples. Use `zero_division` parameter to control this behavior.\n",
      "  _warn_prf(average, modifier, msg_start, len(result))\n"
     ],
     "output_type": "stream"
    },
    {
     "data": {
      "text/plain": "array([0.        , 0.        , 0.06666667, 0.92999204])"
     },
     "metadata": {},
     "output_type": "execute_result",
     "execution_count": 66
    }
   ],
   "source": [
    "#精确率\n",
    "precision=precision_score(y_test,y_predict,average=None)\n",
    "precision"
   ],
   "metadata": {
    "collapsed": false,
    "pycharm": {
     "name": "#%%\n",
     "is_executing": false
    }
   }
  },
  {
   "cell_type": "code",
   "execution_count": 67,
   "outputs": [
    {
     "data": {
      "text/plain": "array([0.        , 0.        , 0.01886792, 0.9807047 ])"
     },
     "metadata": {},
     "output_type": "execute_result",
     "execution_count": 67
    }
   ],
   "source": [
    "#召回率\n",
    "recall=recall_score(y_test,y_predict,average=None)\n",
    "recall"
   ],
   "metadata": {
    "collapsed": false,
    "pycharm": {
     "name": "#%%\n",
     "is_executing": false
    }
   }
  },
  {
   "cell_type": "code",
   "execution_count": 68,
   "outputs": [
    {
     "data": {
      "text/plain": "array([0.        , 0.        , 0.02941176, 0.95467538])"
     },
     "metadata": {},
     "output_type": "execute_result",
     "execution_count": 68
    }
   ],
   "source": [
    "f1=f1_score(y_test,y_predict,average=None,zero_division=1)\n",
    "f1"
   ],
   "metadata": {
    "collapsed": false,
    "pycharm": {
     "name": "#%%\n",
     "is_executing": false
    }
   }
  },
  {
   "cell_type": "code",
   "execution_count": 69,
   "outputs": [],
   "source": [
    "from sklearn.metrics import classification_report"
   ],
   "metadata": {
    "collapsed": false,
    "pycharm": {
     "name": "#%%\n",
     "is_executing": false
    }
   }
  },
  {
   "cell_type": "code",
   "execution_count": 72,
   "outputs": [
    {
     "name": "stdout",
     "text": [
      "{'L1': {'precision': 0.0, 'recall': 0.0, 'f1-score': 0.0, 'support': 1}, 'L2': {'precision': 0.0, 'recall': 0.0, 'f1-score': 0.0, 'support': 20}, 'L3': {'precision': 0.06666666666666667, 'recall': 0.018867924528301886, 'f1-score': 0.029411764705882353, 'support': 159}, 'L4': {'precision': 0.9299920445505171, 'recall': 0.9807046979865772, 'f1-score': 0.9546753777051858, 'support': 2384}, 'accuracy': 0.9130265210608425, 'macro avg': {'precision': 0.24916467780429594, 'recall': 0.24989315562871978, 'f1-score': 0.24602178560276705, 'support': 2564}, 'weighted avg': {'precision': 0.8688381568675635, 'recall': 0.9130265210608425, 'f1-score': 0.889478381839859, 'support': 2564}}\n"
     ],
     "output_type": "stream"
    },
    {
     "name": "stderr",
     "text": [
      "E:\\Python\\Anaconda\\lib\\site-packages\\sklearn\\metrics\\_classification.py:1272: UndefinedMetricWarning: Precision and F-score are ill-defined and being set to 0.0 in labels with no predicted samples. Use `zero_division` parameter to control this behavior.\n",
      "  _warn_prf(average, modifier, msg_start, len(result))\n"
     ],
     "output_type": "stream"
    }
   ],
   "source": [
    "print(classification_report(y_test,y_predict,digits=4,output_dict=True))"
   ],
   "metadata": {
    "collapsed": false,
    "pycharm": {
     "name": "#%%\n",
     "is_executing": false
    }
   }
  },
  {
   "cell_type": "code",
   "execution_count": null,
   "outputs": [],
   "source": [
    "\n"
   ],
   "metadata": {
    "collapsed": false,
    "pycharm": {
     "name": "#%%\n"
    }
   }
  }
 ],
 "metadata": {
  "kernelspec": {
   "name": "pycharm-776d61e2",
   "language": "python",
   "display_name": "PyCharm (analysis)"
  },
  "language_info": {
   "codemirror_mode": {
    "name": "ipython",
    "version": 2
   },
   "file_extension": ".py",
   "mimetype": "text/x-python",
   "name": "python",
   "nbconvert_exporter": "python",
   "pygments_lexer": "ipython2",
   "version": "2.7.6"
  }
 },
 "nbformat": 4,
 "nbformat_minor": 0
}